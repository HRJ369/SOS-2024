{
  "cells": [
    {
      "cell_type": "code",
      "execution_count": null,
      "metadata": {
        "colab": {
          "base_uri": "https://localhost:8080/"
        },
        "id": "Gv9o-ODPxN96",
        "outputId": "0c9e8c5f-ac97-4deb-95a7-b6e2dc2d567f"
      },
      "outputs": [
        {
          "name": "stdout",
          "output_type": "stream",
          "text": [
            "9.0\n"
          ]
        }
      ],
      "source": [
        "import numpy as np\n",
        "arr =np.array([10,5,10,10,10])\n",
        "print(np.mean(arr))"
      ]
    },
    {
      "cell_type": "code",
      "execution_count": null,
      "metadata": {
        "colab": {
          "base_uri": "https://localhost:8080/"
        },
        "id": "5nrvLjiUzEUJ",
        "outputId": "bf9e6111-d7de-4eba-c3d6-40fa333d9c5a"
      },
      "outputs": [
        {
          "name": "stdout",
          "output_type": "stream",
          "text": [
            "8.64\n"
          ]
        }
      ],
      "source": [
        "import numpy as np\n",
        "arr=np.array([2,2,10,5,4])\n",
        "print(np.var(arr))"
      ]
    },
    {
      "cell_type": "code",
      "execution_count": null,
      "metadata": {
        "colab": {
          "base_uri": "https://localhost:8080/"
        },
        "id": "s9qqfJAr0mWr",
        "outputId": "dbdb8f2f-28e4-470e-c675-e574a12feb9d"
      },
      "outputs": [
        {
          "name": "stdout",
          "output_type": "stream",
          "text": [
            "2.939387691339814\n"
          ]
        }
      ],
      "source": [
        "import numpy as np\n",
        "arr=np.array([2,2,10,5,4])\n",
        "print(np.std(arr))"
      ]
    },
    {
      "cell_type": "code",
      "execution_count": null,
      "metadata": {
        "colab": {
          "base_uri": "https://localhost:8080/"
        },
        "id": "kHAE-6SY1Zq0",
        "outputId": "2f11bc4c-d5ac-4464-96a3-14a38b556f58"
      },
      "outputs": [
        {
          "output_type": "stream",
          "name": "stdout",
          "text": [
            "[[10.8  -5.25]\n",
            " [-5.25  5.  ]]\n"
          ]
        }
      ],
      "source": [
        "import numpy as np\n",
        "arr=np.array([[2,2,10,5,4],[5,6,2,4,8]])\n",
        "print(np.cov(arr))"
      ]
    }
  ],
  "metadata": {
    "colab": {
      "provenance": []
    },
    "kernelspec": {
      "display_name": "Python 3",
      "name": "python3"
    },
    "language_info": {
      "name": "python"
    }
  },
  "nbformat": 4,
  "nbformat_minor": 0
}