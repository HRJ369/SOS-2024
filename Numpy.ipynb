{
  "nbformat": 4,
  "nbformat_minor": 0,
  "metadata": {
    "colab": {
      "provenance": [],
      "authorship_tag": "ABX9TyPm/MlTvZ+0n8BGZ1575uKa",
      "include_colab_link": true
    },
    "kernelspec": {
      "name": "python3",
      "display_name": "Python 3"
    },
    "language_info": {
      "name": "python"
    }
  },
  "cells": [
    {
      "cell_type": "markdown",
      "metadata": {
        "id": "view-in-github",
        "colab_type": "text"
      },
      "source": [
        "<a href=\"https://colab.research.google.com/github/HRJ369/SOS-2024/blob/main/Numpy.ipynb\" target=\"_parent\"><img src=\"https://colab.research.google.com/assets/colab-badge.svg\" alt=\"Open In Colab\"/></a>"
      ]
    },
    {
      "cell_type": "code",
      "execution_count": null,
      "metadata": {
        "colab": {
          "base_uri": "https://localhost:8080/"
        },
        "id": "-i6a5KFzwZca",
        "outputId": "a157dd77-c09c-4e86-a4e6-ec1a31bee364"
      },
      "outputs": [
        {
          "output_type": "execute_result",
          "data": {
            "text/plain": [
              "array([[48, 23, 38],\n",
              "       [36, 28, 31]])"
            ]
          },
          "metadata": {},
          "execution_count": 27
        }
      ],
      "source": [
        "import numpy as np\n",
        "from numpy import random\n",
        "list_1=[1,2,5,3,6]\n",
        "arr1= np.array(list_1, dtype = np.int8)\n",
        "arr1\n",
        "list_2_merged =[[1,23,34],[89,5,65],[88,55,10]]\n",
        "arr_2 = np.array(list_2_merged)\n",
        "arr_2\n",
        "\n",
        "np.arange(1,12)\n",
        "np.linspace(5,10,5)\n",
        "\n",
        "\n",
        "np.zeros(5)\n",
        "np.zeros((2,3))\n",
        "np.ones(5)\n",
        "\n",
        "arr1.size\n",
        "arr_2.dtype\n",
        "\n",
        "np.random.randint(10,50, size=(2,3))\n"
      ]
    },
    {
      "cell_type": "code",
      "source": [
        "import numpy as np\n",
        "list_2=[[5,5],[5,6],[5,7],[5,8]]\n",
        "arr_2=np.array(list_2)\n",
        "arr_2[0,0]=0\n",
        "arr_2\n",
        "arr_2.shape\n",
        "\n"
      ],
      "metadata": {
        "id": "h3fz011yzxWK",
        "colab": {
          "base_uri": "https://localhost:8080/"
        },
        "outputId": "2765511e-5fd2-443a-ffc0-e55ca8f28cd3"
      },
      "execution_count": null,
      "outputs": [
        {
          "output_type": "execute_result",
          "data": {
            "text/plain": [
              "(4, 2)"
            ]
          },
          "metadata": {},
          "execution_count": 8
        }
      ]
    }
  ]
}